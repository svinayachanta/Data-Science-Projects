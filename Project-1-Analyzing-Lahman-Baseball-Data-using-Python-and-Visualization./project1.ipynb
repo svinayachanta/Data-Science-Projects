{
 "cells": [
  {
   "cell_type": "markdown",
   "id": "_PTp1bw9JgZy",
   "metadata": {
    "id": "_PTp1bw9JgZy"
   },
   "source": [
    "### Data Extraction"
   ]
  },
  {
   "cell_type": "code",
   "execution_count": null,
   "id": "D0oOYn59JZ_Z",
   "metadata": {
    "id": "D0oOYn59JZ_Z"
   },
   "outputs": [],
   "source": [
    "import pandas as pd\n",
    "from matplotlib import pyplot as plt\n",
    "import seaborn as sns\n",
    "import zipfile\n",
    "import os"
   ]
  },
  {
   "cell_type": "code",
   "execution_count": null,
   "id": "HNSYX_juJaCO",
   "metadata": {
    "id": "HNSYX_juJaCO"
   },
   "outputs": [],
   "source": [
    "Zip = \"baseballdatabank-2022.2.zip\"\n",
    "Zip_Path = Zip.replace(\".zip\", \"\")\n",
    "Odp = \"data\"\n",
    "Dp = f\"{Odp}/{Zip_Path}\"\n",
    "Core = f\"{Dp}/core\"\n",
    "Contrib = f\"{Dp}/contrib\"\n",
    "if Odp not in os.listdir() or Zip_Path not in os.listdir(Odp):\n",
    "    print(\"Extracting Archive\")\n",
    "    with zipfile.ZipFile(Zip, \"r\") as data_archive:\n",
    "        data_archive.extractall(Odp)\n",
    "else:\n",
    "    print(\"Archive already exists\")"
   ]
  },
  {
   "cell_type": "markdown",
   "id": "b790bcb6",
   "metadata": {},
   "source": [
    "### Dataframe Creation from required Dataset's"
   ]
  },
  {
   "cell_type": "code",
   "execution_count": null,
   "id": "4b127162",
   "metadata": {},
   "outputs": [],
   "source": [
    "dfsal = pd.read_csv(f'{Contrib}/Salaries.csv')\n",
    "dfplayers = pd.read_csv(f'{Core}/People.csv')\n",
    "dfschool = pd.read_csv(f'{Contrib}/Schools.csv')\n",
    "dfcollege = pd.read_csv(f'{Contrib}/CollegePlaying.csv')\n",
    "dfbat = pd.read_csv(f'{Core}/Batting.csv')\n",
    "dfawards = pd.read_csv(f'{Contrib}/AwardsPlayers.csv')"
   ]
  },
  {
   "cell_type": "markdown",
   "id": "96baa76f",
   "metadata": {},
   "source": [
    "### Analysis 1) From which schools and state did most of the Baseball players are from."
   ]
  },
  {
   "cell_type": "code",
   "execution_count": null,
   "id": "be785705",
   "metadata": {
    "id": "be785705"
   },
   "outputs": [],
   "source": [
    "dfalltable1 = pd.merge(dfschool, dfcollege, on = 'schoolID')"
   ]
  },
  {
   "cell_type": "code",
   "execution_count": null,
   "id": "d20191aa",
   "metadata": {
    "id": "d20191aa"
   },
   "outputs": [],
   "source": [
    "dfalltable2 = pd.merge(dfalltable1, dfplayers, on = 'playerID')"
   ]
  },
  {
   "cell_type": "code",
   "execution_count": null,
   "id": "139ec56c",
   "metadata": {
    "id": "139ec56c"
   },
   "outputs": [],
   "source": [
    "df_ds = dfalltable2[['playerID', 'nameFirst', 'nameLast', 'nameGiven', 'yearID', 'schoolID', 'name_full', 'state', 'country']]\n",
    "df_group = df_ds.groupby(['playerID','yearID']).last().reset_index().sort_values([\"playerID\", \"yearID\"], ascending = False)\n",
    "df_final = df_group.groupby('playerID').nth(0).reset_index() \n",
    "df_final1 = df_final"
   ]
  },
  {
   "cell_type": "code",
   "execution_count": null,
   "id": "fbri2EkBHlR1",
   "metadata": {
    "id": "fbri2EkBHlR1"
   },
   "outputs": [],
   "source": [
    "df_final2 = df_final1.groupby('name_full').agg({'playerID':['count']}).reset_index()\n",
    "df_final2.columns = ['name_full', 'player_count']\n",
    "df_final3 = df_final2.sort_values([\"player_count\"], ascending = False).head(5)"
   ]
  },
  {
   "cell_type": "code",
   "execution_count": null,
   "id": "dQ2_losuHlUs",
   "metadata": {
    "id": "dQ2_losuHlUs"
   },
   "outputs": [],
   "source": [
    "plt.figure(figsize = (11.5,5))\n",
    "p = sns.barplot(data = df_final3, x = 'name_full', y = 'player_count')\n",
    "p.tick_params(labelsize = 8)\n",
    "plt.title('Top 5 Schools from which most of the players came from', fontsize = 20)\n",
    "plt.xlabel('School Name', fontsize = 14)\n",
    "plt.ylabel('Number of Players', fontsize = 14)\n",
    "plt.show()"
   ]
  },
  {
   "cell_type": "code",
   "execution_count": null,
   "id": "MtkDwR81HrzC",
   "metadata": {
    "id": "MtkDwR81HrzC"
   },
   "outputs": [],
   "source": [
    "dfcomp = dfplayers.groupby('birthState').agg({'playerID':['count']}).reset_index()\n",
    "dfcomp.columns = ['statename', 'player_count']\n",
    "dfcomp1 = dfcomp.sort_values([\"player_count\"], ascending = False).head(10)"
   ]
  },
  {
   "cell_type": "code",
   "execution_count": null,
   "id": "8fl4ZFyjHr53",
   "metadata": {
    "id": "8fl4ZFyjHr53"
   },
   "outputs": [],
   "source": [
    "plt.figure(figsize = (10,5))\n",
    "sns.barplot(data = dfcomp1, x = 'statename', y = 'player_count',)\n",
    "plt.title('Top 10 States from which most of the players born', fontsize = 20)\n",
    "plt.xlabel('State Name', fontsize = 14)\n",
    "plt.ylabel('Number of Players', fontsize = 14)\n",
    "plt.show()"
   ]
  },
  {
   "cell_type": "markdown",
   "id": "N2X7YH8pIp0t",
   "metadata": {
    "id": "N2X7YH8pIp0t"
   },
   "source": [
    "### Analysis 2) Stolen Base analysis by year"
   ]
  },
  {
   "cell_type": "code",
   "execution_count": null,
   "id": "zrryjX9AHr8-",
   "metadata": {
    "id": "zrryjX9AHr8-"
   },
   "outputs": [],
   "source": [
    "#Stolen Base\n",
    "dfsb = dfbat[['yearID', 'SB']]"
   ]
  },
  {
   "cell_type": "code",
   "execution_count": null,
   "id": "eBWBGwKjHsAa",
   "metadata": {
    "id": "eBWBGwKjHsAa"
   },
   "outputs": [],
   "source": [
    "dfsbfinal = dfsb.groupby(['yearID']).agg({'SB':['sum']}).reset_index() \n",
    "dfsbfinal.columns = ['yearId', 'SB']"
   ]
  },
  {
   "cell_type": "code",
   "execution_count": null,
   "id": "JlQa2aYNIvZk",
   "metadata": {
    "id": "JlQa2aYNIvZk"
   },
   "outputs": [],
   "source": [
    "plt.figure(figsize = (10,5))\n",
    "sns.lineplot(data = dfsbfinal, x = 'yearId', y = 'SB')\n",
    "plt.title('Stolen Bases by Year', fontsize = 20)\n",
    "plt.xlabel('Year', fontsize = 14)\n",
    "plt.ylabel('Number of Stolen Base', fontsize = 14)\n",
    "plt.show()"
   ]
  },
  {
   "cell_type": "markdown",
   "id": "f0b8ccb2",
   "metadata": {},
   "source": [
    "### Analysis 3) Find the top ten 10 players with respect to their Home Run Rate."
   ]
  },
  {
   "cell_type": "code",
   "execution_count": null,
   "id": "2e716e32",
   "metadata": {},
   "outputs": [],
   "source": [
    "batting = dfbat\n",
    "df_hr_rate = batting.groupby(['playerID','yearID']).agg({'AB':'sum','SO':'sum','HR':'sum'}).reset_index()\n",
    "df_hr_rate = df_hr_rate[df_hr_rate.AB >= 400]\n",
    "df_hr_rate['rate'] = df_hr_rate['HR'] / (df_hr_rate['AB'] - df_hr_rate['SO'])"
   ]
  },
  {
   "cell_type": "code",
   "execution_count": null,
   "id": "836c84d9",
   "metadata": {},
   "outputs": [],
   "source": [
    "top10_HR_rates = df_hr_rate.sort_values('rate',ascending = False).head(10)\n",
    "df_people = dfplayers\n",
    "top10_HR_rates = pd.merge(top10_HR_rates,df_people[['playerID','nameLast']], on = 'playerID')"
   ]
  },
  {
   "cell_type": "code",
   "execution_count": null,
   "id": "acdb2330",
   "metadata": {},
   "outputs": [],
   "source": [
    "plt.figure(figsize = (7,5))\n",
    "sns.scatterplot(data = top10_HR_rates, x = 'yearID', y ='rate', hue='nameLast')\n",
    "plt.title('Top 10 Players Home Run Rate by Year', fontsize = 20)\n",
    "plt.xlabel('Year', fontsize = 14)\n",
    "plt.ylabel('Home Run Rate', fontsize = 14)\n",
    "plt.show()"
   ]
  },
  {
   "cell_type": "markdown",
   "id": "9937e395",
   "metadata": {},
   "source": [
    "### Let's also look at over all home run rate of all the players for all given years."
   ]
  },
  {
   "cell_type": "code",
   "execution_count": null,
   "id": "73d97b75",
   "metadata": {},
   "outputs": [],
   "source": [
    "df_hr_rate_overall = batting.groupby('yearID').agg({'AB':'sum','SO':'sum','HR':'sum'}).reset_index()"
   ]
  },
  {
   "cell_type": "code",
   "execution_count": null,
   "id": "95b16d63",
   "metadata": {},
   "outputs": [],
   "source": [
    "df_hr_rate_overall['rate'] = df_hr_rate_overall['HR'] / (df_hr_rate_overall['AB'] - df_hr_rate_overall['SO'])"
   ]
  },
  {
   "cell_type": "code",
   "execution_count": null,
   "id": "89f0c518",
   "metadata": {},
   "outputs": [],
   "source": [
    "HR_rates_over = df_hr_rate_overall.sort_values('rate',ascending = False)"
   ]
  },
  {
   "cell_type": "code",
   "execution_count": null,
   "id": "3020003a",
   "metadata": {},
   "outputs": [],
   "source": [
    "plt.figure(figsize = (8,5))\n",
    "sns.scatterplot(x = 'yearID', y = 'rate',data = HR_rates_over)\n",
    "plt.title('Overall Players Home Run Rate by Year', fontsize = 20)\n",
    "plt.xlabel('Year', fontsize = 14)\n",
    "plt.ylabel('Home Run Rate', fontsize = 14)\n",
    "plt.show()"
   ]
  },
  {
   "cell_type": "markdown",
   "id": "801fbbcf",
   "metadata": {},
   "source": [
    "### Analysis 4) Change in average salary of all players through out the years:"
   ]
  },
  {
   "cell_type": "code",
   "execution_count": null,
   "id": "d4a1fc0a",
   "metadata": {},
   "outputs": [],
   "source": [
    "salaries_year = dfsal.groupby('yearID').agg({'salary':'mean'}).reset_index()\n",
    "plt.figure(figsize = (10,5))\n",
    "sns.lineplot(data = salaries_year, x = 'yearID', y = 'salary')\n",
    "plt.title('Players Average Salary by Year', fontsize = 20)\n",
    "plt.xlabel('Year', fontsize = 14)\n",
    "plt.ylabel('Average Salary', fontsize = 14)\n",
    "plt.show()"
   ]
  },
  {
   "cell_type": "markdown",
   "id": "e408815b",
   "metadata": {},
   "source": [
    "#### Bar plot for average salary of teams for through years:\n"
   ]
  },
  {
   "cell_type": "code",
   "execution_count": null,
   "id": "1c21fddb",
   "metadata": {},
   "outputs": [],
   "source": [
    "salaries = dfsal.groupby('teamID').agg({'salary':'mean'}).reset_index()\n",
    "plt.figure(figsize = (15,5))\n",
    "sns.barplot(data = salaries, x = 'teamID', y = 'salary')\n",
    "plt.title('Teams Average Salary by Year', fontsize = 20)\n",
    "plt.xlabel('Team ID', fontsize = 14)\n",
    "plt.ylabel('Average Salary', fontsize = 14)\n",
    "plt.show()"
   ]
  },
  {
   "cell_type": "markdown",
   "id": "ca3e9687",
   "metadata": {
    "id": "ca3e9687"
   },
   "source": [
    "### Analysis 5) Top 10 players who won highest number of awards"
   ]
  },
  {
   "cell_type": "code",
   "execution_count": null,
   "id": "c9fec154",
   "metadata": {},
   "outputs": [],
   "source": [
    "dfsal.groupby('yearID').agg({'salary':'max', 'playerID':'first'}).reset_index()\n",
    "dfsal1 = dfsal.sort_values('salary',ascending = False).head(10)"
   ]
  },
  {
   "cell_type": "code",
   "execution_count": null,
   "id": "c782cd33",
   "metadata": {
    "id": "c782cd33",
    "outputId": "cb344754-8e77-4788-da2f-98e4c9fd5411"
   },
   "outputs": [],
   "source": [
    "df_awards = dfawards\n",
    "df_awards_count = df_awards.groupby('playerID').agg({'awardID':'count'}).reset_index()\n",
    "df_awards_count.columns = ['playerID','award_count']\n",
    "top10 = df_awards_count.sort_values('award_count',ascending = False).head(10)"
   ]
  },
  {
   "cell_type": "code",
   "execution_count": null,
   "id": "4c0a138b",
   "metadata": {
    "id": "4c0a138b"
   },
   "outputs": [],
   "source": [
    "#merge to get player last names.\n",
    "top10 = pd.merge(top10,df_people[['playerID','nameLast']], on = 'playerID')"
   ]
  },
  {
   "cell_type": "code",
   "execution_count": null,
   "id": "1d2533fe",
   "metadata": {
    "id": "1d2533fe",
    "outputId": "9d30651d-a39b-4539-e8d0-55b79b9d40dd",
    "scrolled": false
   },
   "outputs": [],
   "source": [
    "plt.figure(figsize = (10,5))\n",
    "sns.barplot(data = top10, x = 'nameLast', y = 'award_count')\n",
    "plt.title('Top 10 players with most Awards', fontsize = 20)\n",
    "plt.xlabel('Name', fontsize = 14)\n",
    "plt.ylabel('Number of Awards', fontsize = 14)\n",
    "plt.show()"
   ]
  }
 ],
 "metadata": {
  "colab": {
   "provenance": []
  },
  "kernelspec": {
   "display_name": "Python 3 (ipykernel)",
   "language": "python",
   "name": "python3"
  },
  "language_info": {
   "codemirror_mode": {
    "name": "ipython",
    "version": 3
   },
   "file_extension": ".py",
   "mimetype": "text/x-python",
   "name": "python",
   "nbconvert_exporter": "python",
   "pygments_lexer": "ipython3",
   "version": "3.9.12"
  }
 },
 "nbformat": 4,
 "nbformat_minor": 5
}
