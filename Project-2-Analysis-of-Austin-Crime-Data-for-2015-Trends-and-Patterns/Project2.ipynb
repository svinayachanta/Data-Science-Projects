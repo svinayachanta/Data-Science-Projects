{
 "cells": [
  {
   "cell_type": "code",
   "execution_count": null,
   "metadata": {
    "id": "siZ2Hp1xN9Q7"
   },
   "outputs": [],
   "source": [
    "import pandas as pd\n",
    "from matplotlib import pyplot as plt\n",
    "import seaborn as sns\n",
    "from scipy import stats\n",
    "from numpy import timedelta64"
   ]
  },
  {
   "cell_type": "code",
   "execution_count": null,
   "metadata": {
    "colab": {
     "base_uri": "https://localhost:8080/",
     "height": 112
    },
    "id": "8xmJhTHKONJ3",
    "outputId": "c08a3e46-e3c0-4420-9e0f-e5228e9bce9a"
   },
   "outputs": [],
   "source": [
    "dflocation = pd.read_csv('AustinZipCodes.csv')\n",
    "dfcrime = pd.read_csv('crime-housing-austin-2015.csv')\n",
    "dflocation = dflocation.rename(columns={'Zip Code': 'Zip_Code_Crime', 'People / Sq. Mile': 'Pop_Density'})\n",
    "dfcrime = pd.merge(dfcrime, dflocation, on = 'Zip_Code_Crime')"
   ]
  },
  {
   "cell_type": "markdown",
   "metadata": {
    "id": "df4wAx-ByNig"
   },
   "source": [
    "### Analysis-1: Correlation between Crime Count, Unemployment, Population Below Poverty, Income, Population, House Price of Zip Codes"
   ]
  },
  {
   "cell_type": "code",
   "execution_count": null,
   "metadata": {
    "id": "S7yzibgiyNk_"
   },
   "outputs": [],
   "source": [
    "dfcrime_analysis = dfcrime[['Zip_Code_Crime','Unemployment','Populationbelowpovertylevel','Medianhouseholdincome','Populationwithdisability','Medianhomevalue', 'Pop_Density','Population']].copy()\n",
    "dfcrime_analysis['Unemployment'] = dfcrime_analysis['Unemployment'].str.replace('%', '').astype('float')\n",
    "dfcrime_analysis['Populationbelowpovertylevel'] = dfcrime_analysis['Populationbelowpovertylevel'].str.replace('%', '').astype('float')\n",
    "dfcrime_analysis['Medianhouseholdincome'] = dfcrime_analysis['Medianhouseholdincome'].str.replace('$', '').astype('float')\n",
    "dfcrime_analysis['Populationwithdisability'] = dfcrime_analysis['Populationwithdisability'].str.replace('%', '').astype('float')\n",
    "dfcrime_analysis['Medianhomevalue'] = dfcrime_analysis['Medianhomevalue'].str.replace('$', '').astype('float')\n",
    "dfcrime_analysis['Pop_Density'] = dfcrime_analysis['Pop_Density'].str.replace(',', '').astype('float')\n",
    "dfcrime_analysis['Population'] = dfcrime_analysis['Population'].str.replace(',', '').astype('float')\n",
    "dfcrime_analysis.head(2)"
   ]
  },
  {
   "cell_type": "code",
   "execution_count": null,
   "metadata": {},
   "outputs": [],
   "source": [
    "#Data Cleaning and Calculating Means\n",
    "\n",
    "dfcrime_analysis_means = dfcrime_analysis.groupby('Zip_Code_Crime').agg({'Zip_Code_Crime':['count'], 'Unemployment':['mean'], 'Populationbelowpovertylevel':['mean'], 'Medianhouseholdincome':['mean'],'Populationwithdisability':['mean'], 'Medianhomevalue':['mean'],'Pop_Density':['mean'], 'Population':['mean'] }).reset_index()\n",
    "dfcrime_analysis_means.columns = ['Zip', 'Crimes_Reported_Count', 'UnEmp_Mean', 'PopPov_Mean', 'Income_Mean', 'PopDisable_Mean','HouseVal_Mean', 'Pop_Density', 'Population' ]\n",
    "dfcrime_analysis_means = dfcrime_analysis_means.sort_values(['Crimes_Reported_Count'])\n",
    "dfcrime_analysis_means = dfcrime_analysis_means.dropna()\n",
    "dfcrime_analysis_means.head(2)\n"
   ]
  },
  {
   "cell_type": "markdown",
   "metadata": {},
   "source": [
    "### Plot for Crime Count and Unemployment Percentage of Zip Codes"
   ]
  },
  {
   "cell_type": "code",
   "execution_count": null,
   "metadata": {},
   "outputs": [],
   "source": [
    "plt.figure(figsize=(6,7))\n",
    "p = sns.regplot(data=dfcrime_analysis_means, x='Crimes_Reported_Count', y='UnEmp_Mean')\n",
    "p.tick_params(labelsize = 8)\n",
    "plt.title('Crimes Count and Unemployment Percentage of Zip Codes', fontsize = 15)\n",
    "plt.xlabel('Number of Crimes Reported', fontsize = 12)\n",
    "plt.ylabel('Unemployment Percentage', fontsize = 12)\n",
    "plt.savefig(\"CrimeCount-Unemployment.pdf\", format=\"pdf\", bbox_inches=\"tight\")\n",
    "plt.show()"
   ]
  },
  {
   "cell_type": "markdown",
   "metadata": {},
   "source": [
    "### P Value"
   ]
  },
  {
   "cell_type": "code",
   "execution_count": null,
   "metadata": {},
   "outputs": [],
   "source": [
    "(r,p) = stats.pearsonr(dfcrime_analysis_means.Crimes_Reported_Count, dfcrime_analysis_means.UnEmp_Mean)\n",
    "print('r =', r, 'p =', p)"
   ]
  },
  {
   "cell_type": "markdown",
   "metadata": {},
   "source": [
    "### Plot for Unemployment and Populaton Below Poverty of Zip Codes"
   ]
  },
  {
   "cell_type": "code",
   "execution_count": null,
   "metadata": {},
   "outputs": [],
   "source": [
    "plt.figure(figsize=(6,7))\n",
    "p = sns.regplot(data=dfcrime_analysis_means, x='UnEmp_Mean', y='PopPov_Mean')\n",
    "p.tick_params(labelsize = 8)\n",
    "plt.title('Unemployment and Populaton Below Poverty', fontsize = 15)\n",
    "plt.xlabel('Unemployment Percentage', fontsize = 12)\n",
    "plt.ylabel('Populaton Below Poverty', fontsize = 12)\n",
    "plt.savefig(\"Unemployment-Poverty.pdf\", format=\"pdf\", bbox_inches=\"tight\")\n",
    "plt.show()"
   ]
  },
  {
   "cell_type": "markdown",
   "metadata": {},
   "source": [
    "### P Value"
   ]
  },
  {
   "cell_type": "code",
   "execution_count": null,
   "metadata": {},
   "outputs": [],
   "source": [
    "(r,p) = stats.pearsonr(dfcrime_analysis_means.PopPov_Mean, dfcrime_analysis_means.UnEmp_Mean)\n",
    "print('r =', r, 'p =', p)"
   ]
  },
  {
   "cell_type": "markdown",
   "metadata": {},
   "source": [
    "### Plot for Number of Crimes and Population of Zip Codes"
   ]
  },
  {
   "cell_type": "code",
   "execution_count": null,
   "metadata": {},
   "outputs": [],
   "source": [
    "plt.figure(figsize=(6,7))\n",
    "p = sns.regplot(data=dfcrime_analysis_means, x='Crimes_Reported_Count', y='Population')\n",
    "p.tick_params(labelsize = 8)\n",
    "plt.title('Number of Crimes and Population', fontsize = 15)\n",
    "plt.xlabel('Number of Crimes Reported', fontsize = 12)\n",
    "plt.ylabel('Population', fontsize = 12)\n",
    "plt.savefig(\"CrimeCount-Population.pdf\", format=\"pdf\", bbox_inches=\"tight\")\n",
    "plt.show()"
   ]
  },
  {
   "cell_type": "markdown",
   "metadata": {},
   "source": [
    "### P Value"
   ]
  },
  {
   "cell_type": "code",
   "execution_count": null,
   "metadata": {},
   "outputs": [],
   "source": [
    "(r,p) = stats.pearsonr(dfcrime_analysis_means.Crimes_Reported_Count, dfcrime_analysis_means.Population)\n",
    "print('r =', r, 'p =', p)"
   ]
  },
  {
   "cell_type": "markdown",
   "metadata": {},
   "source": [
    "### Plot for Number of Crimes and Population Below Poverty Line"
   ]
  },
  {
   "cell_type": "code",
   "execution_count": null,
   "metadata": {
    "scrolled": true
   },
   "outputs": [],
   "source": [
    "plt.figure(figsize=(6,7))\n",
    "p = sns.regplot(data=dfcrime_analysis_means, x='Crimes_Reported_Count', y='PopPov_Mean')\n",
    "p.tick_params(labelsize = 8)\n",
    "plt.title('Number of Crimes and Population Below Poverty Line', fontsize = 15)\n",
    "plt.xlabel('Number of Crimes Reported', fontsize = 12)\n",
    "plt.ylabel('Population Below Poverty Line', fontsize = 12)\n",
    "plt.savefig(\"CrimeCount-Poverty.pdf\", format=\"pdf\", bbox_inches=\"tight\")\n",
    "plt.show()"
   ]
  },
  {
   "cell_type": "markdown",
   "metadata": {},
   "source": [
    "### P Value"
   ]
  },
  {
   "cell_type": "code",
   "execution_count": null,
   "metadata": {},
   "outputs": [],
   "source": [
    "(r,p) = stats.pearsonr(dfcrime_analysis_means.Crimes_Reported_Count, dfcrime_analysis_means.PopPov_Mean)\n",
    "print('r =', r, 'p =', p)"
   ]
  },
  {
   "cell_type": "markdown",
   "metadata": {},
   "source": [
    "### Plot for House Value and Unemployment Percentage"
   ]
  },
  {
   "cell_type": "code",
   "execution_count": null,
   "metadata": {},
   "outputs": [],
   "source": [
    "plt.figure(figsize=(6,7))\n",
    "p = sns.regplot(data=dfcrime_analysis_means, x='HouseVal_Mean', y='UnEmp_Mean')\n",
    "p.tick_params(labelsize = 8)\n",
    "plt.title('House Value and Unemployment Percentage', fontsize = 15)\n",
    "plt.xlabel('House Value', fontsize = 12)\n",
    "plt.ylabel('Unemployment Percentage', fontsize = 12)\n",
    "plt.savefig(\"HouseValue-Unemployment.pdf\", format=\"pdf\", bbox_inches=\"tight\")\n",
    "plt.show()"
   ]
  },
  {
   "cell_type": "markdown",
   "metadata": {},
   "source": [
    "### P Value"
   ]
  },
  {
   "cell_type": "code",
   "execution_count": null,
   "metadata": {},
   "outputs": [],
   "source": [
    "(r,p) = stats.pearsonr(dfcrime_analysis_means.HouseVal_Mean, dfcrime_analysis_means.UnEmp_Mean)\n",
    "print('r =', r, 'p =', p)"
   ]
  },
  {
   "cell_type": "markdown",
   "metadata": {},
   "source": [
    "### Analysis-2: Types of Crimes and their Frequency with Crime Status"
   ]
  },
  {
   "cell_type": "code",
   "execution_count": null,
   "metadata": {},
   "outputs": [],
   "source": [
    "df_a_4 = dfcrime[['Highest_NIBRS_UCR_Offense_Description']]\n",
    "df_a_4_g = df_a_4.groupby('Highest_NIBRS_UCR_Offense_Description').agg({'Highest_NIBRS_UCR_Offense_Description':['count']}).reset_index()\n",
    "df_a_4_g.columns = ['Crime_Type', 'Count' ]\n",
    "df_a_4_g = df_a_4_g.dropna().sort_values('Count', ascending = False).head()\n",
    "df_a_4_g.head(2)"
   ]
  },
  {
   "cell_type": "code",
   "execution_count": null,
   "metadata": {},
   "outputs": [],
   "source": [
    "df_a_5 = dfcrime[['Highest_NIBRS_UCR_Offense_Description','Clearance_Status']].dropna()\n",
    "df_a_5_g = df_a_5.groupby(['Highest_NIBRS_UCR_Offense_Description', 'Clearance_Status']).agg({'Clearance_Status':['count'] }).reset_index()\n",
    "df_a_5_g.columns = ['Type','Status', 'Count' ]\n",
    "df_a_5_g = df_a_5_g.sort_values('Count', ascending = False)\n",
    "df_a_5_g.head()"
   ]
  },
  {
   "cell_type": "markdown",
   "metadata": {},
   "source": [
    "### Plot for Types of Crimes and their status i.e., Cleared (C) , Cleared by Exception (O) , Not Cleared (N)"
   ]
  },
  {
   "cell_type": "code",
   "execution_count": null,
   "metadata": {},
   "outputs": [],
   "source": [
    "plt.figure(figsize=(25,6))\n",
    "p = sns.catplot(x='Type', y='Count', hue='Status', data=df_a_5_g, kind = 'bar', height = 10, aspect = 1 )\n",
    "plt.title('Types of Crimes and their status i.e., Cleared (C) , Cleared by Exception (O) , Not Cleared (N)', fontsize = 15)\n",
    "plt.xlabel('Crime Types', fontsize = 12)\n",
    "plt.ylabel('Number of Crimes', fontsize = 12)\n",
    "plt.savefig(\"CrimeandStatus.pdf\", format=\"pdf\", bbox_inches=\"tight\")\n",
    "plt.show()"
   ]
  },
  {
   "cell_type": "code",
   "execution_count": null,
   "metadata": {},
   "outputs": [],
   "source": [
    "# display(dfcrime.columns)\n",
    "crimeType = dfcrime[[\"Highest_Offense_Desc\", \"Averagemonthlytransportationcost\"]].copy()\n",
    "crimeType['Averagemonthlytransportationcost'] = crimeType['Averagemonthlytransportationcost'].replace(\"\\$\",'',regex=True)\n",
    "crimeType.dropna()\n",
    "crimeType['Averagemonthlytransportationcost'] = crimeType['Averagemonthlytransportationcost'].astype('float')\n",
    "crimeType['count'] = 1\n",
    "crimeType = crimeType.groupby('Highest_Offense_Desc').agg({'Averagemonthlytransportationcost' :'sum','count':'sum'}).reset_index()\n",
    "crimeType['avgtranscostpercrimetype'] = crimeType['Averagemonthlytransportationcost'] / crimeType['count']\n",
    "crimeType = crimeType[crimeType['count'] > 250]\n"
   ]
  },
  {
   "cell_type": "code",
   "execution_count": null,
   "metadata": {},
   "outputs": [],
   "source": [
    "crimeType['normtranscost'] = (crimeType['avgtranscostpercrimetype'] - crimeType['avgtranscostpercrimetype'].min())/ (crimeType['avgtranscostpercrimetype'].max() - crimeType['avgtranscostpercrimetype'].min()) \n",
    "ax1 = sns.barplot(data=crimeType, x='Highest_Offense_Desc',y='normtranscost')\n",
    "ax1.set_xticklabels(ax1.get_xticklabels(), rotation=40, ha=\"right\")\n",
    "plt.savefig(\"Transportation-CrimeCount.pdf\", format=\"pdf\", bbox_inches=\"tight\")\n",
    "crimeType"
   ]
  },
  {
   "cell_type": "markdown",
   "metadata": {},
   "source": [
    "### Analysis-3: Top 5 Zip Codes with highest number of Crimes of each type"
   ]
  },
  {
   "cell_type": "code",
   "execution_count": null,
   "metadata": {},
   "outputs": [],
   "source": [
    "df_a_6 = dfcrime[['Zip_Code_Crime','Highest_NIBRS_UCR_Offense_Description']]\n",
    "df_a_6_g = df_a_6.groupby(['Zip_Code_Crime','Highest_NIBRS_UCR_Offense_Description']).agg({'Highest_NIBRS_UCR_Offense_Description':['count']}).reset_index()\n",
    "df_a_6_g.columns = ['Zip','Crime_Type', 'Count' ]\n",
    "df_a_6_g = df_a_6_g.dropna().sort_values('Count', ascending = False)\n",
    "df_a_6_g = df_a_6_g.loc[(df_a_6_g['Zip'] == 78753.0) | (df_a_6_g['Zip'] == 78704.0) | (df_a_6_g['Zip'] == 78741.0) | (df_a_6_g['Zip'] == 78758.0) | (df_a_6_g['Zip'] == 78701.0)]\n",
    "df_a_6_g.head(2)"
   ]
  },
  {
   "cell_type": "code",
   "execution_count": null,
   "metadata": {
    "scrolled": true
   },
   "outputs": [],
   "source": [
    "plt.figure(figsize=(23,6))\n",
    "p = sns.catplot(x='Zip', y='Count', hue='Crime_Type', data=df_a_6_g, kind = 'bar', height = 10, aspect = 1 )\n",
    "plt.title('Top 5 Zip Codes with Number of Crime and Types', fontsize = 15)\n",
    "plt.xlabel('Zip Codes', fontsize = 12)\n",
    "plt.ylabel('Number of Crimes', fontsize = 12)\n",
    "plt.savefig(\"Top5ZipwithCrimCount.pdf\", format=\"pdf\", bbox_inches=\"tight\")\n",
    "plt.show()"
   ]
  },
  {
   "cell_type": "markdown",
   "metadata": {},
   "source": [
    "### Analysis-4: Number of Days taken for Crimes to get cleared based on Zip Code"
   ]
  },
  {
   "cell_type": "code",
   "execution_count": null,
   "metadata": {},
   "outputs": [],
   "source": [
    "df_4 = dfcrime[['Zip_Code_Crime', 'Highest_NIBRS_UCR_Offense_Description', 'Report_Date', 'Clearance_Date','Clearance_Status']]\n",
    "df_4a = df_4.loc[df_4['Clearance_Status'] == 'C'].reset_index(drop=True)\n",
    "df_4a.head(3)"
   ]
  },
  {
   "cell_type": "code",
   "execution_count": null,
   "metadata": {},
   "outputs": [],
   "source": [
    "df_4a['Report_Date'] = pd.to_datetime(df_4a['Report_Date'] )\n",
    "df_4a['Clearance_Date'] = pd.to_datetime(df_4a['Clearance_Date'] )\n",
    "df_4a['Crime_Cleared_Days'] = df_4a['Clearance_Date'] - df_4a['Report_Date']\n",
    "df_4a['Crime_Cleared_Days'] = df_4a['Crime_Cleared_Days'] / timedelta64(1,'D') \n",
    "df_4a.head(3)"
   ]
  },
  {
   "cell_type": "code",
   "execution_count": null,
   "metadata": {},
   "outputs": [],
   "source": [
    "dff = df_4a.groupby(['Highest_NIBRS_UCR_Offense_Description']).agg({'Crime_Cleared_Days':['mean']}).reset_index()\n",
    "dff.columns = ['Crime_Type', 'Avg_Cleared_Days' ]\n",
    "dff = dff.dropna().sort_values('Avg_Cleared_Days', ascending = False)\n",
    "dff"
   ]
  },
  {
   "cell_type": "code",
   "execution_count": null,
   "metadata": {},
   "outputs": [],
   "source": [
    "dfff = df_4a.groupby(['Zip_Code_Crime','Highest_NIBRS_UCR_Offense_Description']).agg({'Crime_Cleared_Days':['mean']}).reset_index()\n",
    "dfff.columns = ['Zip','Crime_Type', 'Avg_Cleared_Days' ]\n",
    "dfff = dfff.dropna().sort_values('Avg_Cleared_Days', ascending = False)\n",
    "dfff.head()"
   ]
  },
  {
   "cell_type": "code",
   "execution_count": null,
   "metadata": {},
   "outputs": [],
   "source": [
    "sns.displot(data=df_4a[df_4a.Zip_Code_Crime.isin([78759.0, 78746.0])],\n",
    "            x='Crime_Cleared_Days', hue='Zip_Code_Crime', kind='kde',\n",
    "            common_norm=False)\n",
    "plt.savefig(\"CrimeCleared-ZipCode.pdf\", format=\"pdf\", bbox_inches=\"tight\")\n",
    "plt.show()"
   ]
  },
  {
   "cell_type": "code",
   "execution_count": null,
   "metadata": {},
   "outputs": [],
   "source": [
    "#MEAN and STANDARD DEVIATION\n",
    "\n",
    "display(f'78730.0 mean: {df_4a[df_4a.Zip_Code_Crime==78759.0].Crime_Cleared_Days.mean()}')\n",
    "display(f'78736.0 mean: {df_4a[df_4a.Zip_Code_Crime==78746.0].Crime_Cleared_Days.mean()}')\n",
    "display(f'78730.0 sd: {df_4a[df_4a.Zip_Code_Crime==78759.0].Crime_Cleared_Days.std()}')\n",
    "display(f'78736.0 sd: {df_4a[df_4a.Zip_Code_Crime==78746.0].Crime_Cleared_Days.std()}')\n",
    "display(stats.ttest_ind(df_4a[df_4a.Zip_Code_Crime == 78759.0].Crime_Cleared_Days, df_4a[df_4a.Zip_Code_Crime == 78746.0].Crime_Cleared_Days))\n"
   ]
  },
  {
   "cell_type": "markdown",
   "metadata": {},
   "source": [
    "### Analysis-5:  Crime Count in Each District"
   ]
  },
  {
   "cell_type": "code",
   "execution_count": null,
   "metadata": {
    "scrolled": true
   },
   "outputs": [],
   "source": [
    "df_5 = dfcrime[['District', 'Highest_NIBRS_UCR_Offense_Description', 'Report_Date', 'Clearance_Date','Clearance_Status']]\n",
    "df_5_g = df_5.groupby(['District','Highest_NIBRS_UCR_Offense_Description']).agg({'Highest_NIBRS_UCR_Offense_Description':['count']}).reset_index()\n",
    "df_5_g.columns = ['District','Crime_Type', 'Count' ]\n",
    "df_5_g = df_5_g.dropna().sort_values('Count', ascending = False)\n",
    "df_5_g.head()"
   ]
  },
  {
   "cell_type": "code",
   "execution_count": null,
   "metadata": {},
   "outputs": [],
   "source": [
    "sns.displot(data=df_5_g[df_5_g.District.isin(['D', 'G'])],\n",
    "            x='Count', hue='District', kind='kde',\n",
    "            common_norm=False)\n",
    "plt.savefig(\"Distruct-CrimeCount.pdf\", format=\"pdf\", bbox_inches=\"tight\")\n",
    "plt.show()"
   ]
  },
  {
   "cell_type": "code",
   "execution_count": null,
   "metadata": {},
   "outputs": [],
   "source": [
    "#MEAN and STANDARD DEVIATION\n",
    "\n",
    "df = df_5_g\n",
    "display(f'D mean: {df[df.District==\"D\"].Count.mean()}')\n",
    "display(f'AP mean: {df[df.District==\"G\"].Count.mean()}')\n",
    "display(f'D sd: {df[df.District==\"D\"].Count.std()}')\n",
    "display(f'AP sd: {df[df.District==\"G\"].Count.std()}')\n",
    "\n",
    "display(stats.ttest_ind(df[df.District == 'D'].Count, df[df.District == 'G'].Count))\n"
   ]
  },
  {
   "cell_type": "code",
   "execution_count": null,
   "metadata": {},
   "outputs": [],
   "source": []
  }
 ],
 "metadata": {
  "colab": {
   "provenance": []
  },
  "kernelspec": {
   "display_name": "Python 3",
   "language": "python",
   "name": "python3"
  },
  "language_info": {
   "codemirror_mode": {
    "name": "ipython",
    "version": 3
   },
   "file_extension": ".py",
   "mimetype": "text/x-python",
   "name": "python",
   "nbconvert_exporter": "python",
   "pygments_lexer": "ipython3",
   "version": "3.10.9"
  },
  "vscode": {
   "interpreter": {
    "hash": "8112dd241fa2daf28d9e3e7428f74cc036918cdd417492de7d9a77b623e05e74"
   }
  }
 },
 "nbformat": 4,
 "nbformat_minor": 1
}
